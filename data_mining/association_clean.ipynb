{
 "cells": [
  {
   "cell_type": "code",
   "execution_count": 13,
   "id": "initial_id",
   "metadata": {
    "collapsed": true,
    "jupyter": {
     "outputs_hidden": true
    },
    "ExecuteTime": {
     "end_time": "2024-01-04T15:30:24.820759Z",
     "start_time": "2024-01-04T15:30:24.754248900Z"
    }
   },
   "outputs": [],
   "source": [
    "import pandas as pd"
   ]
  },
  {
   "cell_type": "markdown",
   "id": "7a9cd1074261d577",
   "metadata": {
    "collapsed": false
   },
   "source": [
    "Read the clean data we need from the ETL process"
   ]
  },
  {
   "cell_type": "code",
   "execution_count": 14,
   "id": "c7afa14c97c89179",
   "metadata": {
    "collapsed": false,
    "ExecuteTime": {
     "end_time": "2024-01-04T15:30:25.005053200Z",
     "start_time": "2024-01-04T15:30:24.823760Z"
    }
   },
   "outputs": [],
   "source": [
    "book_dim = pd.read_csv('../ssis_data/book_dim.csv')\n",
    "category_dim = pd.read_csv('../ssis_data/category_dim.csv')\n",
    "fact_table = pd.read_csv('../ssis_data/rbook_fact.csv')"
   ]
  },
  {
   "cell_type": "markdown",
   "source": [
    "Merge the book_dim and fact_table on the id_book column"
   ],
   "metadata": {
    "collapsed": false
   },
   "id": "4fc15203aba685f6"
  },
  {
   "cell_type": "code",
   "outputs": [
    {
     "data": {
      "text/plain": "       id_book                                        label_title  \\\n0           49  Oliver Byrne's Elements of Euclid: The First S...   \n1           54  My Grandmother's Hands: Racialized Trauma and ...   \n2           90  Brickwork Projects for Patio & Garden: Designs...   \n3          106  Beyond the Back Yard: Train Your Dog to Listen...   \n4          168  Fundamentals of Project Management, Sixth Edition   \n...        ...                                                ...   \n83699   124178  Dominance and Submission: : The Blue Oyster Cu...   \n83700   126715                                          Jura Wine   \n83701   129242  A Quiet Mind to Suffer With: Mental Illness, T...   \n83702   130082  Surviving and Thriving in Middle School Genera...   \n83703   130457  Drinkable Rivers: How the river became my teacher   \n\n       label_reviews  label_isKindleUnlimited  label_isBestSeller  \\\n0                  0                    False               False   \n1                  0                    False               False   \n2                  0                    False               False   \n3                  0                    False               False   \n4                  0                    False               False   \n...              ...                      ...                 ...   \n83699              1                    False               False   \n83700              1                    False               False   \n83701              1                    False               False   \n83702              1                    False               False   \n83703              1                    False               False   \n\n       label_isEditorsPick  label_isGoodReadsChoice    Book  Author  \\\n0                    False                    False      49    5242   \n1                    False                    False      54   41771   \n2                    False                    False      90   24368   \n3                    False                    False     106   17027   \n4                    False                    False     168   35183   \n...                    ...                      ...     ...     ...   \n83699                False                    False  124178   46042   \n83700                False                    False  126715   71601   \n83701                False                    False  129242   33269   \n83702                False                    False  130082   49098   \n83703                False                    False  130457   41713   \n\n       PublishedDate  Category  SoldBy  Rating  price  \n0               5969        26      22     4.4   9.99  \n1               2527        21      22     4.8   9.99  \n2               5488        10      22     4.2   9.99  \n3               6092         8      22     4.6   9.99  \n4               7021         3       2     4.8   9.99  \n...              ...       ...     ...     ...    ...  \n83699           1568         1      22     5.0   9.99  \n83700           5090        31      22     5.0   9.99  \n83701           3886        24      22     5.0   9.99  \n83702           5919         9      22     5.0   9.99  \n83703           1709        31      22     5.0   9.99  \n\n[83704 rows x 14 columns]",
      "text/html": "<div>\n<style scoped>\n    .dataframe tbody tr th:only-of-type {\n        vertical-align: middle;\n    }\n\n    .dataframe tbody tr th {\n        vertical-align: top;\n    }\n\n    .dataframe thead th {\n        text-align: right;\n    }\n</style>\n<table border=\"1\" class=\"dataframe\">\n  <thead>\n    <tr style=\"text-align: right;\">\n      <th></th>\n      <th>id_book</th>\n      <th>label_title</th>\n      <th>label_reviews</th>\n      <th>label_isKindleUnlimited</th>\n      <th>label_isBestSeller</th>\n      <th>label_isEditorsPick</th>\n      <th>label_isGoodReadsChoice</th>\n      <th>Book</th>\n      <th>Author</th>\n      <th>PublishedDate</th>\n      <th>Category</th>\n      <th>SoldBy</th>\n      <th>Rating</th>\n      <th>price</th>\n    </tr>\n  </thead>\n  <tbody>\n    <tr>\n      <th>0</th>\n      <td>49</td>\n      <td>Oliver Byrne's Elements of Euclid: The First S...</td>\n      <td>0</td>\n      <td>False</td>\n      <td>False</td>\n      <td>False</td>\n      <td>False</td>\n      <td>49</td>\n      <td>5242</td>\n      <td>5969</td>\n      <td>26</td>\n      <td>22</td>\n      <td>4.4</td>\n      <td>9.99</td>\n    </tr>\n    <tr>\n      <th>1</th>\n      <td>54</td>\n      <td>My Grandmother's Hands: Racialized Trauma and ...</td>\n      <td>0</td>\n      <td>False</td>\n      <td>False</td>\n      <td>False</td>\n      <td>False</td>\n      <td>54</td>\n      <td>41771</td>\n      <td>2527</td>\n      <td>21</td>\n      <td>22</td>\n      <td>4.8</td>\n      <td>9.99</td>\n    </tr>\n    <tr>\n      <th>2</th>\n      <td>90</td>\n      <td>Brickwork Projects for Patio &amp; Garden: Designs...</td>\n      <td>0</td>\n      <td>False</td>\n      <td>False</td>\n      <td>False</td>\n      <td>False</td>\n      <td>90</td>\n      <td>24368</td>\n      <td>5488</td>\n      <td>10</td>\n      <td>22</td>\n      <td>4.2</td>\n      <td>9.99</td>\n    </tr>\n    <tr>\n      <th>3</th>\n      <td>106</td>\n      <td>Beyond the Back Yard: Train Your Dog to Listen...</td>\n      <td>0</td>\n      <td>False</td>\n      <td>False</td>\n      <td>False</td>\n      <td>False</td>\n      <td>106</td>\n      <td>17027</td>\n      <td>6092</td>\n      <td>8</td>\n      <td>22</td>\n      <td>4.6</td>\n      <td>9.99</td>\n    </tr>\n    <tr>\n      <th>4</th>\n      <td>168</td>\n      <td>Fundamentals of Project Management, Sixth Edition</td>\n      <td>0</td>\n      <td>False</td>\n      <td>False</td>\n      <td>False</td>\n      <td>False</td>\n      <td>168</td>\n      <td>35183</td>\n      <td>7021</td>\n      <td>3</td>\n      <td>2</td>\n      <td>4.8</td>\n      <td>9.99</td>\n    </tr>\n    <tr>\n      <th>...</th>\n      <td>...</td>\n      <td>...</td>\n      <td>...</td>\n      <td>...</td>\n      <td>...</td>\n      <td>...</td>\n      <td>...</td>\n      <td>...</td>\n      <td>...</td>\n      <td>...</td>\n      <td>...</td>\n      <td>...</td>\n      <td>...</td>\n      <td>...</td>\n    </tr>\n    <tr>\n      <th>83699</th>\n      <td>124178</td>\n      <td>Dominance and Submission: : The Blue Oyster Cu...</td>\n      <td>1</td>\n      <td>False</td>\n      <td>False</td>\n      <td>False</td>\n      <td>False</td>\n      <td>124178</td>\n      <td>46042</td>\n      <td>1568</td>\n      <td>1</td>\n      <td>22</td>\n      <td>5.0</td>\n      <td>9.99</td>\n    </tr>\n    <tr>\n      <th>83700</th>\n      <td>126715</td>\n      <td>Jura Wine</td>\n      <td>1</td>\n      <td>False</td>\n      <td>False</td>\n      <td>False</td>\n      <td>False</td>\n      <td>126715</td>\n      <td>71601</td>\n      <td>5090</td>\n      <td>31</td>\n      <td>22</td>\n      <td>5.0</td>\n      <td>9.99</td>\n    </tr>\n    <tr>\n      <th>83701</th>\n      <td>129242</td>\n      <td>A Quiet Mind to Suffer With: Mental Illness, T...</td>\n      <td>1</td>\n      <td>False</td>\n      <td>False</td>\n      <td>False</td>\n      <td>False</td>\n      <td>129242</td>\n      <td>33269</td>\n      <td>3886</td>\n      <td>24</td>\n      <td>22</td>\n      <td>5.0</td>\n      <td>9.99</td>\n    </tr>\n    <tr>\n      <th>83702</th>\n      <td>130082</td>\n      <td>Surviving and Thriving in Middle School Genera...</td>\n      <td>1</td>\n      <td>False</td>\n      <td>False</td>\n      <td>False</td>\n      <td>False</td>\n      <td>130082</td>\n      <td>49098</td>\n      <td>5919</td>\n      <td>9</td>\n      <td>22</td>\n      <td>5.0</td>\n      <td>9.99</td>\n    </tr>\n    <tr>\n      <th>83703</th>\n      <td>130457</td>\n      <td>Drinkable Rivers: How the river became my teacher</td>\n      <td>1</td>\n      <td>False</td>\n      <td>False</td>\n      <td>False</td>\n      <td>False</td>\n      <td>130457</td>\n      <td>41713</td>\n      <td>1709</td>\n      <td>31</td>\n      <td>22</td>\n      <td>5.0</td>\n      <td>9.99</td>\n    </tr>\n  </tbody>\n</table>\n<p>83704 rows × 14 columns</p>\n</div>"
     },
     "execution_count": 15,
     "metadata": {},
     "output_type": "execute_result"
    }
   ],
   "source": [
    "# Merge the book_dim and fact_table on the id_book column\n",
    "data = pd.merge(book_dim, fact_table, left_on='id_book', right_on='Book')\n",
    "data"
   ],
   "metadata": {
    "collapsed": false,
    "ExecuteTime": {
     "end_time": "2024-01-04T15:30:25.034853700Z",
     "start_time": "2024-01-04T15:30:25.006051700Z"
    }
   },
   "id": "677dc5fc8c56a63",
   "execution_count": 15
  },
  {
   "cell_type": "markdown",
   "source": [
    "Now we will merge the data and category_dim on the id_category column"
   ],
   "metadata": {
    "collapsed": false
   },
   "id": "b814a1ac2627ecae"
  },
  {
   "cell_type": "code",
   "outputs": [
    {
     "data": {
      "text/plain": "       id_book                                        label_title  \\\n0           49  Oliver Byrne's Elements of Euclid: The First S...   \n1         1529  THE ILLUSTRATED THEORY OF EVERYTHING: The Orig...   \n2         1589  The Circadian Code: Lose Weight, Supercharge Y...   \n3         1851  The Medical School Interview: Winning Strategi...   \n4         1909                          Complexity: A Guided Tour   \n...        ...                                                ...   \n83699    71631  Disney Tim Burton's The Nightmare Before Chris...   \n83700    76574  Frank Miller's Sin City Volume 1: The Hard Goo...   \n83701    26071      Hellboy Omnibus Volume 1: Seed of Destruction   \n83702   102595  George and Harold's Epic Comix Collection Vol,...   \n83703    45733                     Enough Space for Everyone Else   \n\n       label_reviews  label_isKindleUnlimited  label_isBestSeller  \\\n0                  0                    False               False   \n1                  0                    False               False   \n2                  0                    False               False   \n3                  0                    False               False   \n4                  0                    False               False   \n...              ...                      ...                 ...   \n83699            584                    False               False   \n83700            715                    False               False   \n83701           1734                    False               False   \n83702            780                    False               False   \n83703              2                     True               False   \n\n       label_isEditorsPick  label_isGoodReadsChoice    Book  Author  \\\n0                    False                    False      49    5242   \n1                    False                    False    1529   64768   \n2                    False                    False    1589   61803   \n3                    False                    False    1851   61030   \n4                    False                    False    1909   47534   \n...                    ...                      ...     ...     ...   \n83699                False                    False   71631   36382   \n83700                False                    False   76574   22734   \n83701                False                    False   26071   49439   \n83702                False                    False  102595   61891   \n83703                False                    False   45733      17   \n\n       PublishedDate  Category  SoldBy  Rating  price  id_category  \\\n0               5969        26      22     4.4   9.99           26   \n1               2347        26      22     4.5   9.99           26   \n2               1910        26       9     4.6   9.99           26   \n3               2411        26      22     4.4   9.99           26   \n4               4140        26      22     4.5   9.99           26   \n...              ...       ...     ...     ...    ...          ...   \n83699           2940         5      28     4.7   0.00            5   \n83700           6492         5      28     4.6   0.00            5   \n83701           4251         5       9     4.8  14.99            5   \n83702           2715         5       3     4.8   5.99            5   \n83703           1293         5      22     4.7   9.99            5   \n\n       label_category  \n0      Science & Math  \n1      Science & Math  \n2      Science & Math  \n3      Science & Math  \n4      Science & Math  \n...               ...  \n83699          Comics  \n83700          Comics  \n83701          Comics  \n83702          Comics  \n83703          Comics  \n\n[83704 rows x 16 columns]",
      "text/html": "<div>\n<style scoped>\n    .dataframe tbody tr th:only-of-type {\n        vertical-align: middle;\n    }\n\n    .dataframe tbody tr th {\n        vertical-align: top;\n    }\n\n    .dataframe thead th {\n        text-align: right;\n    }\n</style>\n<table border=\"1\" class=\"dataframe\">\n  <thead>\n    <tr style=\"text-align: right;\">\n      <th></th>\n      <th>id_book</th>\n      <th>label_title</th>\n      <th>label_reviews</th>\n      <th>label_isKindleUnlimited</th>\n      <th>label_isBestSeller</th>\n      <th>label_isEditorsPick</th>\n      <th>label_isGoodReadsChoice</th>\n      <th>Book</th>\n      <th>Author</th>\n      <th>PublishedDate</th>\n      <th>Category</th>\n      <th>SoldBy</th>\n      <th>Rating</th>\n      <th>price</th>\n      <th>id_category</th>\n      <th>label_category</th>\n    </tr>\n  </thead>\n  <tbody>\n    <tr>\n      <th>0</th>\n      <td>49</td>\n      <td>Oliver Byrne's Elements of Euclid: The First S...</td>\n      <td>0</td>\n      <td>False</td>\n      <td>False</td>\n      <td>False</td>\n      <td>False</td>\n      <td>49</td>\n      <td>5242</td>\n      <td>5969</td>\n      <td>26</td>\n      <td>22</td>\n      <td>4.4</td>\n      <td>9.99</td>\n      <td>26</td>\n      <td>Science &amp; Math</td>\n    </tr>\n    <tr>\n      <th>1</th>\n      <td>1529</td>\n      <td>THE ILLUSTRATED THEORY OF EVERYTHING: The Orig...</td>\n      <td>0</td>\n      <td>False</td>\n      <td>False</td>\n      <td>False</td>\n      <td>False</td>\n      <td>1529</td>\n      <td>64768</td>\n      <td>2347</td>\n      <td>26</td>\n      <td>22</td>\n      <td>4.5</td>\n      <td>9.99</td>\n      <td>26</td>\n      <td>Science &amp; Math</td>\n    </tr>\n    <tr>\n      <th>2</th>\n      <td>1589</td>\n      <td>The Circadian Code: Lose Weight, Supercharge Y...</td>\n      <td>0</td>\n      <td>False</td>\n      <td>False</td>\n      <td>False</td>\n      <td>False</td>\n      <td>1589</td>\n      <td>61803</td>\n      <td>1910</td>\n      <td>26</td>\n      <td>9</td>\n      <td>4.6</td>\n      <td>9.99</td>\n      <td>26</td>\n      <td>Science &amp; Math</td>\n    </tr>\n    <tr>\n      <th>3</th>\n      <td>1851</td>\n      <td>The Medical School Interview: Winning Strategi...</td>\n      <td>0</td>\n      <td>False</td>\n      <td>False</td>\n      <td>False</td>\n      <td>False</td>\n      <td>1851</td>\n      <td>61030</td>\n      <td>2411</td>\n      <td>26</td>\n      <td>22</td>\n      <td>4.4</td>\n      <td>9.99</td>\n      <td>26</td>\n      <td>Science &amp; Math</td>\n    </tr>\n    <tr>\n      <th>4</th>\n      <td>1909</td>\n      <td>Complexity: A Guided Tour</td>\n      <td>0</td>\n      <td>False</td>\n      <td>False</td>\n      <td>False</td>\n      <td>False</td>\n      <td>1909</td>\n      <td>47534</td>\n      <td>4140</td>\n      <td>26</td>\n      <td>22</td>\n      <td>4.5</td>\n      <td>9.99</td>\n      <td>26</td>\n      <td>Science &amp; Math</td>\n    </tr>\n    <tr>\n      <th>...</th>\n      <td>...</td>\n      <td>...</td>\n      <td>...</td>\n      <td>...</td>\n      <td>...</td>\n      <td>...</td>\n      <td>...</td>\n      <td>...</td>\n      <td>...</td>\n      <td>...</td>\n      <td>...</td>\n      <td>...</td>\n      <td>...</td>\n      <td>...</td>\n      <td>...</td>\n      <td>...</td>\n    </tr>\n    <tr>\n      <th>83699</th>\n      <td>71631</td>\n      <td>Disney Tim Burton's The Nightmare Before Chris...</td>\n      <td>584</td>\n      <td>False</td>\n      <td>False</td>\n      <td>False</td>\n      <td>False</td>\n      <td>71631</td>\n      <td>36382</td>\n      <td>2940</td>\n      <td>5</td>\n      <td>28</td>\n      <td>4.7</td>\n      <td>0.00</td>\n      <td>5</td>\n      <td>Comics</td>\n    </tr>\n    <tr>\n      <th>83700</th>\n      <td>76574</td>\n      <td>Frank Miller's Sin City Volume 1: The Hard Goo...</td>\n      <td>715</td>\n      <td>False</td>\n      <td>False</td>\n      <td>False</td>\n      <td>False</td>\n      <td>76574</td>\n      <td>22734</td>\n      <td>6492</td>\n      <td>5</td>\n      <td>28</td>\n      <td>4.6</td>\n      <td>0.00</td>\n      <td>5</td>\n      <td>Comics</td>\n    </tr>\n    <tr>\n      <th>83701</th>\n      <td>26071</td>\n      <td>Hellboy Omnibus Volume 1: Seed of Destruction</td>\n      <td>1734</td>\n      <td>False</td>\n      <td>False</td>\n      <td>False</td>\n      <td>False</td>\n      <td>26071</td>\n      <td>49439</td>\n      <td>4251</td>\n      <td>5</td>\n      <td>9</td>\n      <td>4.8</td>\n      <td>14.99</td>\n      <td>5</td>\n      <td>Comics</td>\n    </tr>\n    <tr>\n      <th>83702</th>\n      <td>102595</td>\n      <td>George and Harold's Epic Comix Collection Vol,...</td>\n      <td>780</td>\n      <td>False</td>\n      <td>False</td>\n      <td>False</td>\n      <td>False</td>\n      <td>102595</td>\n      <td>61891</td>\n      <td>2715</td>\n      <td>5</td>\n      <td>3</td>\n      <td>4.8</td>\n      <td>5.99</td>\n      <td>5</td>\n      <td>Comics</td>\n    </tr>\n    <tr>\n      <th>83703</th>\n      <td>45733</td>\n      <td>Enough Space for Everyone Else</td>\n      <td>2</td>\n      <td>True</td>\n      <td>False</td>\n      <td>False</td>\n      <td>False</td>\n      <td>45733</td>\n      <td>17</td>\n      <td>1293</td>\n      <td>5</td>\n      <td>22</td>\n      <td>4.7</td>\n      <td>9.99</td>\n      <td>5</td>\n      <td>Comics</td>\n    </tr>\n  </tbody>\n</table>\n<p>83704 rows × 16 columns</p>\n</div>"
     },
     "execution_count": 16,
     "metadata": {},
     "output_type": "execute_result"
    }
   ],
   "source": [
    "# Merge the data and category_dim on the id_category column\n",
    "data = pd.merge(data, category_dim, left_on='Category', right_on='id_category')\n",
    "data   "
   ],
   "metadata": {
    "collapsed": false,
    "ExecuteTime": {
     "end_time": "2024-01-04T15:30:25.055166400Z",
     "start_time": "2024-01-04T15:30:25.032853500Z"
    }
   },
   "id": "fa05704dd4671f71",
   "execution_count": 16
  },
  {
   "cell_type": "markdown",
   "source": [
    "Let's now see the distribution of the price"
   ],
   "metadata": {
    "collapsed": false
   },
   "id": "72ee917993c33c61"
  },
  {
   "cell_type": "code",
   "outputs": [
    {
     "data": {
      "text/plain": "count    83704.000000\nmean        18.491458\nstd         25.557160\nmin          0.000000\n25%          8.260000\n50%         11.990000\n75%         16.990000\nmax        682.000000\nName: price, dtype: float64"
     },
     "execution_count": 17,
     "metadata": {},
     "output_type": "execute_result"
    }
   ],
   "source": [
    "data['price'].describe()"
   ],
   "metadata": {
    "collapsed": false,
    "ExecuteTime": {
     "end_time": "2024-01-04T15:30:25.062521700Z",
     "start_time": "2024-01-04T15:30:25.053163800Z"
    }
   },
   "id": "56db7ae6a6ae4bc2",
   "execution_count": 17
  },
  {
   "cell_type": "markdown",
   "source": [
    "We can see that for prices above 16.99, the number of books is considered to be expensive. \n",
    "For prices below 11.99, the number of books is considered to be cheap. \n",
    "\n",
    "So, we will create two new columns, is_cheap and is_expensive, to indicate whether a book is cheap or expensive.\n",
    "Also, we will create a new column, is_highly_rated, to indicate whether a book is highly rated or not and we will consider a book to be highly rated if its rating is greater than 4.5 based on our observations."
   ],
   "metadata": {
    "collapsed": false
   },
   "id": "8fda0adcbb3c0bb1"
  },
  {
   "cell_type": "code",
   "execution_count": 18,
   "id": "44c9f15b44a1fe46",
   "metadata": {
    "collapsed": false,
    "ExecuteTime": {
     "end_time": "2024-01-04T15:30:25.096378400Z",
     "start_time": "2024-01-04T15:30:25.059701Z"
    }
   },
   "outputs": [],
   "source": [
    "import pandas as pd\n",
    "from mlxtend.preprocessing import TransactionEncoder\n",
    "from mlxtend.frequent_patterns import apriori,association_rules\n",
    "\n",
    "# Preprocessing\n",
    "data['is_highly_rated'] = data['Rating'] > 4.5\n",
    "data['is_cheap'] = data['price'] < 11.99\n",
    "data['is_expensive'] = data['price'] >= 16.99"
   ]
  },
  {
   "cell_type": "markdown",
   "source": [
    "We now proceed to one hot encode the category columns and keep only the relevant columns."
   ],
   "metadata": {
    "collapsed": false
   },
   "id": "c1e13b3b47b8ae97"
  },
  {
   "cell_type": "code",
   "outputs": [
    {
     "data": {
      "text/plain": "       label_category_Arts & Photo graphy  \\\n0                                   False   \n1                                   False   \n2                                   False   \n3                                   False   \n4                                   False   \n...                                   ...   \n83699                               False   \n83700                               False   \n83701                               False   \n83702                               False   \n83703                               False   \n\n       label_category_Biographies & Memoirs  label_category_Business & Money  \\\n0                                     False                            False   \n1                                     False                            False   \n2                                     False                            False   \n3                                     False                            False   \n4                                     False                            False   \n...                                     ...                              ...   \n83699                                 False                            False   \n83700                                 False                            False   \n83701                                 False                            False   \n83702                                 False                            False   \n83703                                 False                            False   \n\n       label_category_Children's eBooks  label_category_Comics  \\\n0                                 False                  False   \n1                                 False                  False   \n2                                 False                  False   \n3                                 False                  False   \n4                                 False                  False   \n...                                 ...                    ...   \n83699                             False                   True   \n83700                             False                   True   \n83701                             False                   True   \n83702                             False                   True   \n83703                             False                   True   \n\n       label_category_Computers & Technology  \\\n0                                      False   \n1                                      False   \n2                                      False   \n3                                      False   \n4                                      False   \n...                                      ...   \n83699                                  False   \n83700                                  False   \n83701                                  False   \n83702                                  False   \n83703                                  False   \n\n       label_category_Cookbooks, Food & Wine  \\\n0                                      False   \n1                                      False   \n2                                      False   \n3                                      False   \n4                                      False   \n...                                      ...   \n83699                                  False   \n83700                                  False   \n83701                                  False   \n83702                                  False   \n83703                                  False   \n\n       label_category_Crafts, Hobbies & Home  \\\n0                                      False   \n1                                      False   \n2                                      False   \n3                                      False   \n4                                      False   \n...                                      ...   \n83699                                  False   \n83700                                  False   \n83701                                  False   \n83702                                  False   \n83703                                  False   \n\n       label_category_Education & Teaching  \\\n0                                    False   \n1                                    False   \n2                                    False   \n3                                    False   \n4                                    False   \n...                                    ...   \n83699                                False   \n83700                                False   \n83701                                False   \n83702                                False   \n83703                                False   \n\n       label_category_Engineering & Transportation  ...  \\\n0                                            False  ...   \n1                                            False  ...   \n2                                            False  ...   \n3                                            False  ...   \n4                                            False  ...   \n...                                            ...  ...   \n83699                                        False  ...   \n83700                                        False  ...   \n83701                                        False  ...   \n83702                                        False  ...   \n83703                                        False  ...   \n\n       label_category_Politics & Social Sciences  label_category_Reference  \\\n0                                          False                     False   \n1                                          False                     False   \n2                                          False                     False   \n3                                          False                     False   \n4                                          False                     False   \n...                                          ...                       ...   \n83699                                      False                     False   \n83700                                      False                     False   \n83701                                      False                     False   \n83702                                      False                     False   \n83703                                      False                     False   \n\n       label_category_Religion & Spirituality  label_category_Romance  \\\n0                                       False                   False   \n1                                       False                   False   \n2                                       False                   False   \n3                                       False                   False   \n4                                       False                   False   \n...                                       ...                     ...   \n83699                                   False                   False   \n83700                                   False                   False   \n83701                                   False                   False   \n83702                                   False                   False   \n83703                                   False                   False   \n\n       label_category_Science & Math  \\\n0                               True   \n1                               True   \n2                               True   \n3                               True   \n4                               True   \n...                              ...   \n83699                          False   \n83700                          False   \n83701                          False   \n83702                          False   \n83703                          False   \n\n       label_category_Science Fiction & Fantasy  label_category_Self-Help  \\\n0                                         False                     False   \n1                                         False                     False   \n2                                         False                     False   \n3                                         False                     False   \n4                                         False                     False   \n...                                         ...                       ...   \n83699                                     False                     False   \n83700                                     False                     False   \n83701                                     False                     False   \n83702                                     False                     False   \n83703                                     False                     False   \n\n       label_category_Sports & Outdoors  label_category_Teen & Young Adult  \\\n0                                 False                              False   \n1                                 False                              False   \n2                                 False                              False   \n3                                 False                              False   \n4                                 False                              False   \n...                                 ...                                ...   \n83699                             False                              False   \n83700                             False                              False   \n83701                             False                              False   \n83702                             False                              False   \n83703                             False                              False   \n\n       label_category_Travel  \n0                      False  \n1                      False  \n2                      False  \n3                      False  \n4                      False  \n...                      ...  \n83699                  False  \n83700                  False  \n83701                  False  \n83702                  False  \n83703                  False  \n\n[83704 rows x 31 columns]",
      "text/html": "<div>\n<style scoped>\n    .dataframe tbody tr th:only-of-type {\n        vertical-align: middle;\n    }\n\n    .dataframe tbody tr th {\n        vertical-align: top;\n    }\n\n    .dataframe thead th {\n        text-align: right;\n    }\n</style>\n<table border=\"1\" class=\"dataframe\">\n  <thead>\n    <tr style=\"text-align: right;\">\n      <th></th>\n      <th>label_category_Arts &amp; Photo graphy</th>\n      <th>label_category_Biographies &amp; Memoirs</th>\n      <th>label_category_Business &amp; Money</th>\n      <th>label_category_Children's eBooks</th>\n      <th>label_category_Comics</th>\n      <th>label_category_Computers &amp; Technology</th>\n      <th>label_category_Cookbooks, Food &amp; Wine</th>\n      <th>label_category_Crafts, Hobbies &amp; Home</th>\n      <th>label_category_Education &amp; Teaching</th>\n      <th>label_category_Engineering &amp; Transportation</th>\n      <th>...</th>\n      <th>label_category_Politics &amp; Social Sciences</th>\n      <th>label_category_Reference</th>\n      <th>label_category_Religion &amp; Spirituality</th>\n      <th>label_category_Romance</th>\n      <th>label_category_Science &amp; Math</th>\n      <th>label_category_Science Fiction &amp; Fantasy</th>\n      <th>label_category_Self-Help</th>\n      <th>label_category_Sports &amp; Outdoors</th>\n      <th>label_category_Teen &amp; Young Adult</th>\n      <th>label_category_Travel</th>\n    </tr>\n  </thead>\n  <tbody>\n    <tr>\n      <th>0</th>\n      <td>False</td>\n      <td>False</td>\n      <td>False</td>\n      <td>False</td>\n      <td>False</td>\n      <td>False</td>\n      <td>False</td>\n      <td>False</td>\n      <td>False</td>\n      <td>False</td>\n      <td>...</td>\n      <td>False</td>\n      <td>False</td>\n      <td>False</td>\n      <td>False</td>\n      <td>True</td>\n      <td>False</td>\n      <td>False</td>\n      <td>False</td>\n      <td>False</td>\n      <td>False</td>\n    </tr>\n    <tr>\n      <th>1</th>\n      <td>False</td>\n      <td>False</td>\n      <td>False</td>\n      <td>False</td>\n      <td>False</td>\n      <td>False</td>\n      <td>False</td>\n      <td>False</td>\n      <td>False</td>\n      <td>False</td>\n      <td>...</td>\n      <td>False</td>\n      <td>False</td>\n      <td>False</td>\n      <td>False</td>\n      <td>True</td>\n      <td>False</td>\n      <td>False</td>\n      <td>False</td>\n      <td>False</td>\n      <td>False</td>\n    </tr>\n    <tr>\n      <th>2</th>\n      <td>False</td>\n      <td>False</td>\n      <td>False</td>\n      <td>False</td>\n      <td>False</td>\n      <td>False</td>\n      <td>False</td>\n      <td>False</td>\n      <td>False</td>\n      <td>False</td>\n      <td>...</td>\n      <td>False</td>\n      <td>False</td>\n      <td>False</td>\n      <td>False</td>\n      <td>True</td>\n      <td>False</td>\n      <td>False</td>\n      <td>False</td>\n      <td>False</td>\n      <td>False</td>\n    </tr>\n    <tr>\n      <th>3</th>\n      <td>False</td>\n      <td>False</td>\n      <td>False</td>\n      <td>False</td>\n      <td>False</td>\n      <td>False</td>\n      <td>False</td>\n      <td>False</td>\n      <td>False</td>\n      <td>False</td>\n      <td>...</td>\n      <td>False</td>\n      <td>False</td>\n      <td>False</td>\n      <td>False</td>\n      <td>True</td>\n      <td>False</td>\n      <td>False</td>\n      <td>False</td>\n      <td>False</td>\n      <td>False</td>\n    </tr>\n    <tr>\n      <th>4</th>\n      <td>False</td>\n      <td>False</td>\n      <td>False</td>\n      <td>False</td>\n      <td>False</td>\n      <td>False</td>\n      <td>False</td>\n      <td>False</td>\n      <td>False</td>\n      <td>False</td>\n      <td>...</td>\n      <td>False</td>\n      <td>False</td>\n      <td>False</td>\n      <td>False</td>\n      <td>True</td>\n      <td>False</td>\n      <td>False</td>\n      <td>False</td>\n      <td>False</td>\n      <td>False</td>\n    </tr>\n    <tr>\n      <th>...</th>\n      <td>...</td>\n      <td>...</td>\n      <td>...</td>\n      <td>...</td>\n      <td>...</td>\n      <td>...</td>\n      <td>...</td>\n      <td>...</td>\n      <td>...</td>\n      <td>...</td>\n      <td>...</td>\n      <td>...</td>\n      <td>...</td>\n      <td>...</td>\n      <td>...</td>\n      <td>...</td>\n      <td>...</td>\n      <td>...</td>\n      <td>...</td>\n      <td>...</td>\n      <td>...</td>\n    </tr>\n    <tr>\n      <th>83699</th>\n      <td>False</td>\n      <td>False</td>\n      <td>False</td>\n      <td>False</td>\n      <td>True</td>\n      <td>False</td>\n      <td>False</td>\n      <td>False</td>\n      <td>False</td>\n      <td>False</td>\n      <td>...</td>\n      <td>False</td>\n      <td>False</td>\n      <td>False</td>\n      <td>False</td>\n      <td>False</td>\n      <td>False</td>\n      <td>False</td>\n      <td>False</td>\n      <td>False</td>\n      <td>False</td>\n    </tr>\n    <tr>\n      <th>83700</th>\n      <td>False</td>\n      <td>False</td>\n      <td>False</td>\n      <td>False</td>\n      <td>True</td>\n      <td>False</td>\n      <td>False</td>\n      <td>False</td>\n      <td>False</td>\n      <td>False</td>\n      <td>...</td>\n      <td>False</td>\n      <td>False</td>\n      <td>False</td>\n      <td>False</td>\n      <td>False</td>\n      <td>False</td>\n      <td>False</td>\n      <td>False</td>\n      <td>False</td>\n      <td>False</td>\n    </tr>\n    <tr>\n      <th>83701</th>\n      <td>False</td>\n      <td>False</td>\n      <td>False</td>\n      <td>False</td>\n      <td>True</td>\n      <td>False</td>\n      <td>False</td>\n      <td>False</td>\n      <td>False</td>\n      <td>False</td>\n      <td>...</td>\n      <td>False</td>\n      <td>False</td>\n      <td>False</td>\n      <td>False</td>\n      <td>False</td>\n      <td>False</td>\n      <td>False</td>\n      <td>False</td>\n      <td>False</td>\n      <td>False</td>\n    </tr>\n    <tr>\n      <th>83702</th>\n      <td>False</td>\n      <td>False</td>\n      <td>False</td>\n      <td>False</td>\n      <td>True</td>\n      <td>False</td>\n      <td>False</td>\n      <td>False</td>\n      <td>False</td>\n      <td>False</td>\n      <td>...</td>\n      <td>False</td>\n      <td>False</td>\n      <td>False</td>\n      <td>False</td>\n      <td>False</td>\n      <td>False</td>\n      <td>False</td>\n      <td>False</td>\n      <td>False</td>\n      <td>False</td>\n    </tr>\n    <tr>\n      <th>83703</th>\n      <td>False</td>\n      <td>False</td>\n      <td>False</td>\n      <td>False</td>\n      <td>True</td>\n      <td>False</td>\n      <td>False</td>\n      <td>False</td>\n      <td>False</td>\n      <td>False</td>\n      <td>...</td>\n      <td>False</td>\n      <td>False</td>\n      <td>False</td>\n      <td>False</td>\n      <td>False</td>\n      <td>False</td>\n      <td>False</td>\n      <td>False</td>\n      <td>False</td>\n      <td>False</td>\n    </tr>\n  </tbody>\n</table>\n<p>83704 rows × 31 columns</p>\n</div>"
     },
     "execution_count": 19,
     "metadata": {},
     "output_type": "execute_result"
    }
   ],
   "source": [
    "# One hot encode the category columns\n",
    "categories = data[['label_category']]\n",
    "categories = pd.get_dummies(categories, columns=['label_category'])\n",
    "categories"
   ],
   "metadata": {
    "collapsed": false,
    "ExecuteTime": {
     "end_time": "2024-01-04T15:30:25.131218Z",
     "start_time": "2024-01-04T15:30:25.062521700Z"
    }
   },
   "id": "38411f2a2505d2e9",
   "execution_count": 19
  },
  {
   "cell_type": "markdown",
   "source": [
    "We choose the following columns to be relevant for our analysis:\n",
    "- is_highly_rated\n",
    "- is_cheap\n",
    "- is_expensive\n",
    "- label_isBestSeller\n",
    "- label_isEditorsPick\n",
    "- label_isGoodReadsChoice\n",
    "- label_isKindleUnlimited\n",
    "- categories"
   ],
   "metadata": {
    "collapsed": false
   },
   "id": "13a3012b47a0f917"
  },
  {
   "cell_type": "code",
   "outputs": [
    {
     "data": {
      "text/plain": "       is_highly_rated  is_cheap  is_expensive  label_isBestSeller  \\\n0                False      True         False               False   \n1                False      True         False               False   \n2                 True      True         False               False   \n3                False      True         False               False   \n4                False      True         False               False   \n...                ...       ...           ...                 ...   \n83699             True      True         False               False   \n83700             True      True         False               False   \n83701             True     False         False               False   \n83702             True      True         False               False   \n83703             True      True         False               False   \n\n       label_isEditorsPick  label_isGoodReadsChoice  label_isKindleUnlimited  \n0                    False                    False                    False  \n1                    False                    False                    False  \n2                    False                    False                    False  \n3                    False                    False                    False  \n4                    False                    False                    False  \n...                    ...                      ...                      ...  \n83699                False                    False                    False  \n83700                False                    False                    False  \n83701                False                    False                    False  \n83702                False                    False                    False  \n83703                False                    False                     True  \n\n[83704 rows x 7 columns]",
      "text/html": "<div>\n<style scoped>\n    .dataframe tbody tr th:only-of-type {\n        vertical-align: middle;\n    }\n\n    .dataframe tbody tr th {\n        vertical-align: top;\n    }\n\n    .dataframe thead th {\n        text-align: right;\n    }\n</style>\n<table border=\"1\" class=\"dataframe\">\n  <thead>\n    <tr style=\"text-align: right;\">\n      <th></th>\n      <th>is_highly_rated</th>\n      <th>is_cheap</th>\n      <th>is_expensive</th>\n      <th>label_isBestSeller</th>\n      <th>label_isEditorsPick</th>\n      <th>label_isGoodReadsChoice</th>\n      <th>label_isKindleUnlimited</th>\n    </tr>\n  </thead>\n  <tbody>\n    <tr>\n      <th>0</th>\n      <td>False</td>\n      <td>True</td>\n      <td>False</td>\n      <td>False</td>\n      <td>False</td>\n      <td>False</td>\n      <td>False</td>\n    </tr>\n    <tr>\n      <th>1</th>\n      <td>False</td>\n      <td>True</td>\n      <td>False</td>\n      <td>False</td>\n      <td>False</td>\n      <td>False</td>\n      <td>False</td>\n    </tr>\n    <tr>\n      <th>2</th>\n      <td>True</td>\n      <td>True</td>\n      <td>False</td>\n      <td>False</td>\n      <td>False</td>\n      <td>False</td>\n      <td>False</td>\n    </tr>\n    <tr>\n      <th>3</th>\n      <td>False</td>\n      <td>True</td>\n      <td>False</td>\n      <td>False</td>\n      <td>False</td>\n      <td>False</td>\n      <td>False</td>\n    </tr>\n    <tr>\n      <th>4</th>\n      <td>False</td>\n      <td>True</td>\n      <td>False</td>\n      <td>False</td>\n      <td>False</td>\n      <td>False</td>\n      <td>False</td>\n    </tr>\n    <tr>\n      <th>...</th>\n      <td>...</td>\n      <td>...</td>\n      <td>...</td>\n      <td>...</td>\n      <td>...</td>\n      <td>...</td>\n      <td>...</td>\n    </tr>\n    <tr>\n      <th>83699</th>\n      <td>True</td>\n      <td>True</td>\n      <td>False</td>\n      <td>False</td>\n      <td>False</td>\n      <td>False</td>\n      <td>False</td>\n    </tr>\n    <tr>\n      <th>83700</th>\n      <td>True</td>\n      <td>True</td>\n      <td>False</td>\n      <td>False</td>\n      <td>False</td>\n      <td>False</td>\n      <td>False</td>\n    </tr>\n    <tr>\n      <th>83701</th>\n      <td>True</td>\n      <td>False</td>\n      <td>False</td>\n      <td>False</td>\n      <td>False</td>\n      <td>False</td>\n      <td>False</td>\n    </tr>\n    <tr>\n      <th>83702</th>\n      <td>True</td>\n      <td>True</td>\n      <td>False</td>\n      <td>False</td>\n      <td>False</td>\n      <td>False</td>\n      <td>False</td>\n    </tr>\n    <tr>\n      <th>83703</th>\n      <td>True</td>\n      <td>True</td>\n      <td>False</td>\n      <td>False</td>\n      <td>False</td>\n      <td>False</td>\n      <td>True</td>\n    </tr>\n  </tbody>\n</table>\n<p>83704 rows × 7 columns</p>\n</div>"
     },
     "execution_count": 20,
     "metadata": {},
     "output_type": "execute_result"
    }
   ],
   "source": [
    "# Select relevant columns\n",
    "relevant_data = data[['is_highly_rated', 'is_cheap', 'is_expensive', 'label_isBestSeller',\n",
    "                      'label_isEditorsPick', 'label_isGoodReadsChoice', 'label_isKindleUnlimited']]\n",
    "relevant_data"
   ],
   "metadata": {
    "collapsed": false,
    "ExecuteTime": {
     "end_time": "2024-01-04T15:30:25.150214800Z",
     "start_time": "2024-01-04T15:30:25.089074300Z"
    }
   },
   "id": "4711820436384a54",
   "execution_count": 20
  },
  {
   "cell_type": "code",
   "outputs": [
    {
     "data": {
      "text/plain": "       is_highly_rated  is_cheap  is_expensive  label_isBestSeller  \\\n0                False      True         False               False   \n1                False      True         False               False   \n2                 True      True         False               False   \n3                False      True         False               False   \n4                False      True         False               False   \n...                ...       ...           ...                 ...   \n83699             True      True         False               False   \n83700             True      True         False               False   \n83701             True     False         False               False   \n83702             True      True         False               False   \n83703             True      True         False               False   \n\n       label_isEditorsPick  label_isGoodReadsChoice  label_isKindleUnlimited  \\\n0                    False                    False                    False   \n1                    False                    False                    False   \n2                    False                    False                    False   \n3                    False                    False                    False   \n4                    False                    False                    False   \n...                    ...                      ...                      ...   \n83699                False                    False                    False   \n83700                False                    False                    False   \n83701                False                    False                    False   \n83702                False                    False                    False   \n83703                False                    False                     True   \n\n       label_category_Arts & Photo graphy  \\\n0                                   False   \n1                                   False   \n2                                   False   \n3                                   False   \n4                                   False   \n...                                   ...   \n83699                               False   \n83700                               False   \n83701                               False   \n83702                               False   \n83703                               False   \n\n       label_category_Biographies & Memoirs  label_category_Business & Money  \\\n0                                     False                            False   \n1                                     False                            False   \n2                                     False                            False   \n3                                     False                            False   \n4                                     False                            False   \n...                                     ...                              ...   \n83699                                 False                            False   \n83700                                 False                            False   \n83701                                 False                            False   \n83702                                 False                            False   \n83703                                 False                            False   \n\n       ...  label_category_Politics & Social Sciences  \\\n0      ...                                      False   \n1      ...                                      False   \n2      ...                                      False   \n3      ...                                      False   \n4      ...                                      False   \n...    ...                                        ...   \n83699  ...                                      False   \n83700  ...                                      False   \n83701  ...                                      False   \n83702  ...                                      False   \n83703  ...                                      False   \n\n       label_category_Reference  label_category_Religion & Spirituality  \\\n0                         False                                   False   \n1                         False                                   False   \n2                         False                                   False   \n3                         False                                   False   \n4                         False                                   False   \n...                         ...                                     ...   \n83699                     False                                   False   \n83700                     False                                   False   \n83701                     False                                   False   \n83702                     False                                   False   \n83703                     False                                   False   \n\n       label_category_Romance  label_category_Science & Math  \\\n0                       False                           True   \n1                       False                           True   \n2                       False                           True   \n3                       False                           True   \n4                       False                           True   \n...                       ...                            ...   \n83699                   False                          False   \n83700                   False                          False   \n83701                   False                          False   \n83702                   False                          False   \n83703                   False                          False   \n\n       label_category_Science Fiction & Fantasy  label_category_Self-Help  \\\n0                                         False                     False   \n1                                         False                     False   \n2                                         False                     False   \n3                                         False                     False   \n4                                         False                     False   \n...                                         ...                       ...   \n83699                                     False                     False   \n83700                                     False                     False   \n83701                                     False                     False   \n83702                                     False                     False   \n83703                                     False                     False   \n\n       label_category_Sports & Outdoors  label_category_Teen & Young Adult  \\\n0                                 False                              False   \n1                                 False                              False   \n2                                 False                              False   \n3                                 False                              False   \n4                                 False                              False   \n...                                 ...                                ...   \n83699                             False                              False   \n83700                             False                              False   \n83701                             False                              False   \n83702                             False                              False   \n83703                             False                              False   \n\n       label_category_Travel  \n0                      False  \n1                      False  \n2                      False  \n3                      False  \n4                      False  \n...                      ...  \n83699                  False  \n83700                  False  \n83701                  False  \n83702                  False  \n83703                  False  \n\n[83704 rows x 38 columns]",
      "text/html": "<div>\n<style scoped>\n    .dataframe tbody tr th:only-of-type {\n        vertical-align: middle;\n    }\n\n    .dataframe tbody tr th {\n        vertical-align: top;\n    }\n\n    .dataframe thead th {\n        text-align: right;\n    }\n</style>\n<table border=\"1\" class=\"dataframe\">\n  <thead>\n    <tr style=\"text-align: right;\">\n      <th></th>\n      <th>is_highly_rated</th>\n      <th>is_cheap</th>\n      <th>is_expensive</th>\n      <th>label_isBestSeller</th>\n      <th>label_isEditorsPick</th>\n      <th>label_isGoodReadsChoice</th>\n      <th>label_isKindleUnlimited</th>\n      <th>label_category_Arts &amp; Photo graphy</th>\n      <th>label_category_Biographies &amp; Memoirs</th>\n      <th>label_category_Business &amp; Money</th>\n      <th>...</th>\n      <th>label_category_Politics &amp; Social Sciences</th>\n      <th>label_category_Reference</th>\n      <th>label_category_Religion &amp; Spirituality</th>\n      <th>label_category_Romance</th>\n      <th>label_category_Science &amp; Math</th>\n      <th>label_category_Science Fiction &amp; Fantasy</th>\n      <th>label_category_Self-Help</th>\n      <th>label_category_Sports &amp; Outdoors</th>\n      <th>label_category_Teen &amp; Young Adult</th>\n      <th>label_category_Travel</th>\n    </tr>\n  </thead>\n  <tbody>\n    <tr>\n      <th>0</th>\n      <td>False</td>\n      <td>True</td>\n      <td>False</td>\n      <td>False</td>\n      <td>False</td>\n      <td>False</td>\n      <td>False</td>\n      <td>False</td>\n      <td>False</td>\n      <td>False</td>\n      <td>...</td>\n      <td>False</td>\n      <td>False</td>\n      <td>False</td>\n      <td>False</td>\n      <td>True</td>\n      <td>False</td>\n      <td>False</td>\n      <td>False</td>\n      <td>False</td>\n      <td>False</td>\n    </tr>\n    <tr>\n      <th>1</th>\n      <td>False</td>\n      <td>True</td>\n      <td>False</td>\n      <td>False</td>\n      <td>False</td>\n      <td>False</td>\n      <td>False</td>\n      <td>False</td>\n      <td>False</td>\n      <td>False</td>\n      <td>...</td>\n      <td>False</td>\n      <td>False</td>\n      <td>False</td>\n      <td>False</td>\n      <td>True</td>\n      <td>False</td>\n      <td>False</td>\n      <td>False</td>\n      <td>False</td>\n      <td>False</td>\n    </tr>\n    <tr>\n      <th>2</th>\n      <td>True</td>\n      <td>True</td>\n      <td>False</td>\n      <td>False</td>\n      <td>False</td>\n      <td>False</td>\n      <td>False</td>\n      <td>False</td>\n      <td>False</td>\n      <td>False</td>\n      <td>...</td>\n      <td>False</td>\n      <td>False</td>\n      <td>False</td>\n      <td>False</td>\n      <td>True</td>\n      <td>False</td>\n      <td>False</td>\n      <td>False</td>\n      <td>False</td>\n      <td>False</td>\n    </tr>\n    <tr>\n      <th>3</th>\n      <td>False</td>\n      <td>True</td>\n      <td>False</td>\n      <td>False</td>\n      <td>False</td>\n      <td>False</td>\n      <td>False</td>\n      <td>False</td>\n      <td>False</td>\n      <td>False</td>\n      <td>...</td>\n      <td>False</td>\n      <td>False</td>\n      <td>False</td>\n      <td>False</td>\n      <td>True</td>\n      <td>False</td>\n      <td>False</td>\n      <td>False</td>\n      <td>False</td>\n      <td>False</td>\n    </tr>\n    <tr>\n      <th>4</th>\n      <td>False</td>\n      <td>True</td>\n      <td>False</td>\n      <td>False</td>\n      <td>False</td>\n      <td>False</td>\n      <td>False</td>\n      <td>False</td>\n      <td>False</td>\n      <td>False</td>\n      <td>...</td>\n      <td>False</td>\n      <td>False</td>\n      <td>False</td>\n      <td>False</td>\n      <td>True</td>\n      <td>False</td>\n      <td>False</td>\n      <td>False</td>\n      <td>False</td>\n      <td>False</td>\n    </tr>\n    <tr>\n      <th>...</th>\n      <td>...</td>\n      <td>...</td>\n      <td>...</td>\n      <td>...</td>\n      <td>...</td>\n      <td>...</td>\n      <td>...</td>\n      <td>...</td>\n      <td>...</td>\n      <td>...</td>\n      <td>...</td>\n      <td>...</td>\n      <td>...</td>\n      <td>...</td>\n      <td>...</td>\n      <td>...</td>\n      <td>...</td>\n      <td>...</td>\n      <td>...</td>\n      <td>...</td>\n      <td>...</td>\n    </tr>\n    <tr>\n      <th>83699</th>\n      <td>True</td>\n      <td>True</td>\n      <td>False</td>\n      <td>False</td>\n      <td>False</td>\n      <td>False</td>\n      <td>False</td>\n      <td>False</td>\n      <td>False</td>\n      <td>False</td>\n      <td>...</td>\n      <td>False</td>\n      <td>False</td>\n      <td>False</td>\n      <td>False</td>\n      <td>False</td>\n      <td>False</td>\n      <td>False</td>\n      <td>False</td>\n      <td>False</td>\n      <td>False</td>\n    </tr>\n    <tr>\n      <th>83700</th>\n      <td>True</td>\n      <td>True</td>\n      <td>False</td>\n      <td>False</td>\n      <td>False</td>\n      <td>False</td>\n      <td>False</td>\n      <td>False</td>\n      <td>False</td>\n      <td>False</td>\n      <td>...</td>\n      <td>False</td>\n      <td>False</td>\n      <td>False</td>\n      <td>False</td>\n      <td>False</td>\n      <td>False</td>\n      <td>False</td>\n      <td>False</td>\n      <td>False</td>\n      <td>False</td>\n    </tr>\n    <tr>\n      <th>83701</th>\n      <td>True</td>\n      <td>False</td>\n      <td>False</td>\n      <td>False</td>\n      <td>False</td>\n      <td>False</td>\n      <td>False</td>\n      <td>False</td>\n      <td>False</td>\n      <td>False</td>\n      <td>...</td>\n      <td>False</td>\n      <td>False</td>\n      <td>False</td>\n      <td>False</td>\n      <td>False</td>\n      <td>False</td>\n      <td>False</td>\n      <td>False</td>\n      <td>False</td>\n      <td>False</td>\n    </tr>\n    <tr>\n      <th>83702</th>\n      <td>True</td>\n      <td>True</td>\n      <td>False</td>\n      <td>False</td>\n      <td>False</td>\n      <td>False</td>\n      <td>False</td>\n      <td>False</td>\n      <td>False</td>\n      <td>False</td>\n      <td>...</td>\n      <td>False</td>\n      <td>False</td>\n      <td>False</td>\n      <td>False</td>\n      <td>False</td>\n      <td>False</td>\n      <td>False</td>\n      <td>False</td>\n      <td>False</td>\n      <td>False</td>\n    </tr>\n    <tr>\n      <th>83703</th>\n      <td>True</td>\n      <td>True</td>\n      <td>False</td>\n      <td>False</td>\n      <td>False</td>\n      <td>False</td>\n      <td>True</td>\n      <td>False</td>\n      <td>False</td>\n      <td>False</td>\n      <td>...</td>\n      <td>False</td>\n      <td>False</td>\n      <td>False</td>\n      <td>False</td>\n      <td>False</td>\n      <td>False</td>\n      <td>False</td>\n      <td>False</td>\n      <td>False</td>\n      <td>False</td>\n    </tr>\n  </tbody>\n</table>\n<p>83704 rows × 38 columns</p>\n</div>"
     },
     "execution_count": 21,
     "metadata": {},
     "output_type": "execute_result"
    }
   ],
   "source": [
    "# Append the categories columns to the relevant data\n",
    "relevant_data = pd.concat([relevant_data, categories], axis=1)\n",
    "relevant_data"
   ],
   "metadata": {
    "collapsed": false,
    "ExecuteTime": {
     "end_time": "2024-01-04T15:30:25.151214900Z",
     "start_time": "2024-01-04T15:30:25.096378400Z"
    }
   },
   "id": "28a46e2d7bfd5aa3",
   "execution_count": 21
  },
  {
   "cell_type": "markdown",
   "source": [
    "We now proceed to apply the Apriori algorithm to find the frequent itemsets and the association rules."
   ],
   "metadata": {
    "collapsed": false
   },
   "id": "f87899effa563a49"
  },
  {
   "cell_type": "code",
   "outputs": [
    {
     "data": {
      "text/plain": "     support                                           itemsets\n0   0.542065                                         (is_cheap)\n1   0.244696                                     (is_expensive)\n2   0.492354                                  (is_highly_rated)\n3   0.044657               (label_category_Arts & Photo graphy)\n4   0.057775             (label_category_Biographies & Memoirs)\n5   0.054741                 (label_category_Children's eBooks)\n6   0.053080            (label_category_Computers & Technology)\n7   0.053582            (label_category_Cookbooks, Food & Wine)\n8   0.051682            (label_category_Crafts, Hobbies & Home)\n9   0.046521              (label_category_Education & Teaching)\n10  0.058790      (label_category_Engineering & Transportation)\n11  0.048158                               (label_category_Law)\n12  0.054729         (label_category_Parenting & Relationships)\n13  0.042925        (label_category_Politics & Social Sciences)\n14  0.060810                    (label_category_Science & Math)\n15  0.050189                            (label_category_Travel)\n16  0.050010                              (label_isEditorsPick)\n17  0.155560                          (label_isKindleUnlimited)\n18  0.257754                        (is_highly_rated, is_cheap)\n19  0.045159       (label_category_Children's eBooks, is_cheap)\n20  0.142072                (is_cheap, label_isKindleUnlimited)\n21  0.125753                    (is_highly_rated, is_expensive)\n22  0.043475  (label_category_Children's eBooks, is_highly_r...\n23  0.062363         (is_highly_rated, label_isKindleUnlimited)\n24  0.054693  (is_highly_rated, is_cheap, label_isKindleUnli...",
      "text/html": "<div>\n<style scoped>\n    .dataframe tbody tr th:only-of-type {\n        vertical-align: middle;\n    }\n\n    .dataframe tbody tr th {\n        vertical-align: top;\n    }\n\n    .dataframe thead th {\n        text-align: right;\n    }\n</style>\n<table border=\"1\" class=\"dataframe\">\n  <thead>\n    <tr style=\"text-align: right;\">\n      <th></th>\n      <th>support</th>\n      <th>itemsets</th>\n    </tr>\n  </thead>\n  <tbody>\n    <tr>\n      <th>0</th>\n      <td>0.542065</td>\n      <td>(is_cheap)</td>\n    </tr>\n    <tr>\n      <th>1</th>\n      <td>0.244696</td>\n      <td>(is_expensive)</td>\n    </tr>\n    <tr>\n      <th>2</th>\n      <td>0.492354</td>\n      <td>(is_highly_rated)</td>\n    </tr>\n    <tr>\n      <th>3</th>\n      <td>0.044657</td>\n      <td>(label_category_Arts &amp; Photo graphy)</td>\n    </tr>\n    <tr>\n      <th>4</th>\n      <td>0.057775</td>\n      <td>(label_category_Biographies &amp; Memoirs)</td>\n    </tr>\n    <tr>\n      <th>5</th>\n      <td>0.054741</td>\n      <td>(label_category_Children's eBooks)</td>\n    </tr>\n    <tr>\n      <th>6</th>\n      <td>0.053080</td>\n      <td>(label_category_Computers &amp; Technology)</td>\n    </tr>\n    <tr>\n      <th>7</th>\n      <td>0.053582</td>\n      <td>(label_category_Cookbooks, Food &amp; Wine)</td>\n    </tr>\n    <tr>\n      <th>8</th>\n      <td>0.051682</td>\n      <td>(label_category_Crafts, Hobbies &amp; Home)</td>\n    </tr>\n    <tr>\n      <th>9</th>\n      <td>0.046521</td>\n      <td>(label_category_Education &amp; Teaching)</td>\n    </tr>\n    <tr>\n      <th>10</th>\n      <td>0.058790</td>\n      <td>(label_category_Engineering &amp; Transportation)</td>\n    </tr>\n    <tr>\n      <th>11</th>\n      <td>0.048158</td>\n      <td>(label_category_Law)</td>\n    </tr>\n    <tr>\n      <th>12</th>\n      <td>0.054729</td>\n      <td>(label_category_Parenting &amp; Relationships)</td>\n    </tr>\n    <tr>\n      <th>13</th>\n      <td>0.042925</td>\n      <td>(label_category_Politics &amp; Social Sciences)</td>\n    </tr>\n    <tr>\n      <th>14</th>\n      <td>0.060810</td>\n      <td>(label_category_Science &amp; Math)</td>\n    </tr>\n    <tr>\n      <th>15</th>\n      <td>0.050189</td>\n      <td>(label_category_Travel)</td>\n    </tr>\n    <tr>\n      <th>16</th>\n      <td>0.050010</td>\n      <td>(label_isEditorsPick)</td>\n    </tr>\n    <tr>\n      <th>17</th>\n      <td>0.155560</td>\n      <td>(label_isKindleUnlimited)</td>\n    </tr>\n    <tr>\n      <th>18</th>\n      <td>0.257754</td>\n      <td>(is_highly_rated, is_cheap)</td>\n    </tr>\n    <tr>\n      <th>19</th>\n      <td>0.045159</td>\n      <td>(label_category_Children's eBooks, is_cheap)</td>\n    </tr>\n    <tr>\n      <th>20</th>\n      <td>0.142072</td>\n      <td>(is_cheap, label_isKindleUnlimited)</td>\n    </tr>\n    <tr>\n      <th>21</th>\n      <td>0.125753</td>\n      <td>(is_highly_rated, is_expensive)</td>\n    </tr>\n    <tr>\n      <th>22</th>\n      <td>0.043475</td>\n      <td>(label_category_Children's eBooks, is_highly_r...</td>\n    </tr>\n    <tr>\n      <th>23</th>\n      <td>0.062363</td>\n      <td>(is_highly_rated, label_isKindleUnlimited)</td>\n    </tr>\n    <tr>\n      <th>24</th>\n      <td>0.054693</td>\n      <td>(is_highly_rated, is_cheap, label_isKindleUnli...</td>\n    </tr>\n  </tbody>\n</table>\n</div>"
     },
     "execution_count": 22,
     "metadata": {},
     "output_type": "execute_result"
    }
   ],
   "source": [
    "# Convert DataFrame into a list of lists for TransactionEncoder\n",
    "transactions = relevant_data.apply(lambda row: row.index[row].tolist(), axis=1)\n",
    "\n",
    "# TransactionEncoder\n",
    "te = TransactionEncoder()\n",
    "te_ary = te.fit(transactions).transform(transactions)\n",
    "df = pd.DataFrame(te_ary, columns=te.columns_)\n",
    "\n",
    "# Applying the Apriori algorithm\n",
    "frequent_itemsets = apriori(df, min_support=0.04, use_colnames=True, low_memory=False)\n",
    "\n",
    "# Displaying the frequent itemsets\n",
    "frequent_itemsets"
   ],
   "metadata": {
    "collapsed": false,
    "ExecuteTime": {
     "end_time": "2024-01-04T15:30:25.842264800Z",
     "start_time": "2024-01-04T15:30:25.109217900Z"
    }
   },
   "id": "b7e05276c9430e98",
   "execution_count": 22
  },
  {
   "cell_type": "code",
   "execution_count": 23,
   "id": "d027046df004418",
   "metadata": {
    "collapsed": false,
    "ExecuteTime": {
     "end_time": "2024-01-04T15:30:25.844263300Z",
     "start_time": "2024-01-04T15:30:25.829746800Z"
    }
   },
   "outputs": [
    {
     "data": {
      "text/plain": "                                  antecedents                  consequents  \\\n3                   (label_isKindleUnlimited)                   (is_cheap)   \n7  (is_highly_rated, label_isKindleUnlimited)                   (is_cheap)   \n2          (label_category_Children's eBooks)                   (is_cheap)   \n5          (label_category_Children's eBooks)            (is_highly_rated)   \n0                           (is_highly_rated)                   (is_cheap)   \n4                              (is_expensive)            (is_highly_rated)   \n1                                  (is_cheap)            (is_highly_rated)   \n6                   (label_isKindleUnlimited)            (is_highly_rated)   \n8         (is_cheap, label_isKindleUnlimited)            (is_highly_rated)   \n9                   (label_isKindleUnlimited)  (is_highly_rated, is_cheap)   \n\n   antecedent support  consequent support   support  confidence      lift  \\\n3            0.155560            0.542065  0.142072    0.913294  1.684842   \n7            0.062363            0.542065  0.054693    0.877011  1.617909   \n2            0.054741            0.542065  0.045159    0.824967  1.521898   \n5            0.054741            0.492354  0.043475    0.794195  1.613056   \n0            0.492354            0.542065  0.257754    0.523513  0.965775   \n4            0.244696            0.492354  0.125753    0.513915  1.043791   \n1            0.542065            0.492354  0.257754    0.475503  0.965775   \n6            0.155560            0.492354  0.062363    0.400891  0.814233   \n8            0.142072            0.492354  0.054693    0.384965  0.781886   \n9            0.155560            0.257754  0.054693    0.351586  1.364039   \n\n   leverage  conviction  zhangs_metric  \n3  0.057748    5.281464       0.481352  \n7  0.020888    3.723398       0.407320  \n2  0.015486    2.616283       0.362785  \n5  0.016523    2.466632       0.402068  \n0 -0.009134    0.961064      -0.065254  \n4  0.005276    1.044356       0.055545  \n1 -0.009134    0.967872      -0.071828  \n6 -0.014228    0.847335      -0.212709  \n8 -0.015257    0.825393      -0.245371  \n9  0.014597    1.144711       0.316048  ",
      "text/html": "<div>\n<style scoped>\n    .dataframe tbody tr th:only-of-type {\n        vertical-align: middle;\n    }\n\n    .dataframe tbody tr th {\n        vertical-align: top;\n    }\n\n    .dataframe thead th {\n        text-align: right;\n    }\n</style>\n<table border=\"1\" class=\"dataframe\">\n  <thead>\n    <tr style=\"text-align: right;\">\n      <th></th>\n      <th>antecedents</th>\n      <th>consequents</th>\n      <th>antecedent support</th>\n      <th>consequent support</th>\n      <th>support</th>\n      <th>confidence</th>\n      <th>lift</th>\n      <th>leverage</th>\n      <th>conviction</th>\n      <th>zhangs_metric</th>\n    </tr>\n  </thead>\n  <tbody>\n    <tr>\n      <th>3</th>\n      <td>(label_isKindleUnlimited)</td>\n      <td>(is_cheap)</td>\n      <td>0.155560</td>\n      <td>0.542065</td>\n      <td>0.142072</td>\n      <td>0.913294</td>\n      <td>1.684842</td>\n      <td>0.057748</td>\n      <td>5.281464</td>\n      <td>0.481352</td>\n    </tr>\n    <tr>\n      <th>7</th>\n      <td>(is_highly_rated, label_isKindleUnlimited)</td>\n      <td>(is_cheap)</td>\n      <td>0.062363</td>\n      <td>0.542065</td>\n      <td>0.054693</td>\n      <td>0.877011</td>\n      <td>1.617909</td>\n      <td>0.020888</td>\n      <td>3.723398</td>\n      <td>0.407320</td>\n    </tr>\n    <tr>\n      <th>2</th>\n      <td>(label_category_Children's eBooks)</td>\n      <td>(is_cheap)</td>\n      <td>0.054741</td>\n      <td>0.542065</td>\n      <td>0.045159</td>\n      <td>0.824967</td>\n      <td>1.521898</td>\n      <td>0.015486</td>\n      <td>2.616283</td>\n      <td>0.362785</td>\n    </tr>\n    <tr>\n      <th>5</th>\n      <td>(label_category_Children's eBooks)</td>\n      <td>(is_highly_rated)</td>\n      <td>0.054741</td>\n      <td>0.492354</td>\n      <td>0.043475</td>\n      <td>0.794195</td>\n      <td>1.613056</td>\n      <td>0.016523</td>\n      <td>2.466632</td>\n      <td>0.402068</td>\n    </tr>\n    <tr>\n      <th>0</th>\n      <td>(is_highly_rated)</td>\n      <td>(is_cheap)</td>\n      <td>0.492354</td>\n      <td>0.542065</td>\n      <td>0.257754</td>\n      <td>0.523513</td>\n      <td>0.965775</td>\n      <td>-0.009134</td>\n      <td>0.961064</td>\n      <td>-0.065254</td>\n    </tr>\n    <tr>\n      <th>4</th>\n      <td>(is_expensive)</td>\n      <td>(is_highly_rated)</td>\n      <td>0.244696</td>\n      <td>0.492354</td>\n      <td>0.125753</td>\n      <td>0.513915</td>\n      <td>1.043791</td>\n      <td>0.005276</td>\n      <td>1.044356</td>\n      <td>0.055545</td>\n    </tr>\n    <tr>\n      <th>1</th>\n      <td>(is_cheap)</td>\n      <td>(is_highly_rated)</td>\n      <td>0.542065</td>\n      <td>0.492354</td>\n      <td>0.257754</td>\n      <td>0.475503</td>\n      <td>0.965775</td>\n      <td>-0.009134</td>\n      <td>0.967872</td>\n      <td>-0.071828</td>\n    </tr>\n    <tr>\n      <th>6</th>\n      <td>(label_isKindleUnlimited)</td>\n      <td>(is_highly_rated)</td>\n      <td>0.155560</td>\n      <td>0.492354</td>\n      <td>0.062363</td>\n      <td>0.400891</td>\n      <td>0.814233</td>\n      <td>-0.014228</td>\n      <td>0.847335</td>\n      <td>-0.212709</td>\n    </tr>\n    <tr>\n      <th>8</th>\n      <td>(is_cheap, label_isKindleUnlimited)</td>\n      <td>(is_highly_rated)</td>\n      <td>0.142072</td>\n      <td>0.492354</td>\n      <td>0.054693</td>\n      <td>0.384965</td>\n      <td>0.781886</td>\n      <td>-0.015257</td>\n      <td>0.825393</td>\n      <td>-0.245371</td>\n    </tr>\n    <tr>\n      <th>9</th>\n      <td>(label_isKindleUnlimited)</td>\n      <td>(is_highly_rated, is_cheap)</td>\n      <td>0.155560</td>\n      <td>0.257754</td>\n      <td>0.054693</td>\n      <td>0.351586</td>\n      <td>1.364039</td>\n      <td>0.014597</td>\n      <td>1.144711</td>\n      <td>0.316048</td>\n    </tr>\n  </tbody>\n</table>\n</div>"
     },
     "execution_count": 23,
     "metadata": {},
     "output_type": "execute_result"
    }
   ],
   "source": [
    "rules = association_rules(frequent_itemsets, metric=\"confidence\", min_threshold=0.3).sort_values(by='confidence', ascending=False)\n",
    "rules"
   ]
  }
 ],
 "metadata": {
  "kernelspec": {
   "display_name": "Python 3 (ipykernel)",
   "language": "python",
   "name": "python3"
  },
  "language_info": {
   "codemirror_mode": {
    "name": "ipython",
    "version": 3
   },
   "file_extension": ".py",
   "mimetype": "text/x-python",
   "name": "python",
   "nbconvert_exporter": "python",
   "pygments_lexer": "ipython3",
   "version": "3.11.5"
  }
 },
 "nbformat": 4,
 "nbformat_minor": 5
}
